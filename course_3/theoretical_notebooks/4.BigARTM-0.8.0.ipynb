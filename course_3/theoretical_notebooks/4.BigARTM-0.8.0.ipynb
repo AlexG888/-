{
 "cells": [
  {
   "cell_type": "markdown",
   "metadata": {},
   "source": [
    "# Пример использования библиотеки BigARTM для тематического моделирования\n",
    "## Для Bigartm v0.8.0\n",
    "### Редактировал Максим Чурилин"
   ]
  },
  {
   "cell_type": "markdown",
   "metadata": {},
   "source": [
    "Импортируем BigARTM:"
   ]
  },
  {
   "cell_type": "code",
   "execution_count": 1,
   "metadata": {},
   "outputs": [],
   "source": [
    "from matplotlib import pyplot as plt\n",
    "%matplotlib inline"
   ]
  },
  {
   "cell_type": "code",
   "execution_count": 2,
   "metadata": {},
   "outputs": [],
   "source": [
    "import artm"
   ]
  },
  {
   "cell_type": "markdown",
   "metadata": {},
   "source": [
    "Первое считывание данных (преобразуем удобный для человека формат в формат, который использует модель):"
   ]
  },
  {
   "cell_type": "code",
   "execution_count": 3,
   "metadata": {},
   "outputs": [],
   "source": [
    "batch_vectorizer = artm.BatchVectorizer(data_path=\"../data/school.txt\", data_format=\"vowpal_wabbit\", target_folder=\"../data/school_batches\", \n",
    "                                       batch_size=100)"
   ]
  },
  {
   "cell_type": "markdown",
   "metadata": {},
   "source": [
    "В следующий раз данные можно считывать уже из батчей:"
   ]
  },
  {
   "cell_type": "code",
   "execution_count": 4,
   "metadata": {},
   "outputs": [],
   "source": [
    "batch_vectorizer = artm.BatchVectorizer(data_path=\"../data/school_batches\", data_format='batches')"
   ]
  },
  {
   "cell_type": "markdown",
   "metadata": {},
   "source": [
    "Создаем объект модели:"
   ]
  },
  {
   "cell_type": "code",
   "execution_count": 5,
   "metadata": {},
   "outputs": [],
   "source": [
    "T = 10   # количество тем\n",
    "model_artm = artm.ARTM(num_topics=T, topic_names=[\"sbj\"+str(i) for i in range(T)], class_ids={\"text\":1}, \n",
    "                       num_document_passes=1, reuse_theta=True, cache_theta=True, seed=-1)\n",
    "# число после названия модальностей - это их веса"
   ]
  },
  {
   "cell_type": "markdown",
   "metadata": {},
   "source": [
    "Создаем словарь и инициализируем модель с его помощью"
   ]
  },
  {
   "cell_type": "code",
   "execution_count": 6,
   "metadata": {},
   "outputs": [],
   "source": [
    "dictionary = artm.Dictionary('dictionary')\n",
    "dictionary.gather(batch_vectorizer.data_path)"
   ]
  },
  {
   "cell_type": "code",
   "execution_count": 7,
   "metadata": {},
   "outputs": [],
   "source": [
    "model_artm.scores.add(artm.PerplexityScore(name='PerplexityScore',\n",
    "                                           dictionary='dictionary'))\n",
    "model_artm.scores.add(artm.SparsityPhiScore(name='SparsityPhiScore', class_id=\"text\"))\n",
    "model_artm.scores.add(artm.SparsityThetaScore(name='SparsityThetaScore'))\n",
    "model_artm.scores.add(artm.TopTokensScore(name=\"top_words\", num_tokens=15, class_id=\"text\"))"
   ]
  },
  {
   "cell_type": "code",
   "execution_count": 8,
   "metadata": {},
   "outputs": [],
   "source": [
    "model_artm.initialize('dictionary')"
   ]
  },
  {
   "cell_type": "markdown",
   "metadata": {},
   "source": [
    "Строим модель. Offline - проходит по всей коллекции много раз. Удобно, когда коллекция маленькая."
   ]
  },
  {
   "cell_type": "code",
   "execution_count": 9,
   "metadata": {},
   "outputs": [],
   "source": [
    "model_artm.fit_offline(batch_vectorizer=batch_vectorizer, num_collection_passes=40)"
   ]
  },
  {
   "cell_type": "markdown",
   "metadata": {},
   "source": [
    "Необходимое число итераций можно отслеживать по графику перплексии. Когда она перестала меняться, модель сошлась."
   ]
  },
  {
   "cell_type": "code",
   "execution_count": 10,
   "metadata": {},
   "outputs": [
    {
     "data": {
      "text/plain": [
       "[<matplotlib.lines.Line2D at 0x11d080190>]"
      ]
     },
     "execution_count": 10,
     "metadata": {},
     "output_type": "execute_result"
    },
    {
     "data": {
      "image/png": "[encoded data removed]",
      "text/plain": [
       "<Figure size 432x288 with 1 Axes>"
      ]
     },
     "metadata": {
      "needs_background": "light"
     },
     "output_type": "display_data"
    }
   ],
   "source": [
    "plt.plot(model_artm.score_tracker[\"PerplexityScore\"].value)"
   ]
  },
  {
   "cell_type": "markdown",
   "metadata": {},
   "source": [
    "Выведем топы слов:"
   ]
  },
  {
   "cell_type": "code",
   "execution_count": 11,
   "metadata": {},
   "outputs": [
    {
     "name": "stdout",
     "output_type": "stream",
     "text": [
      "sbj0:  который быть что это человек этот как свой для они его весь такой время себя sbj1:  a множитель возведение b скобка x раскладывать умножение сокращенный разложение ответ квадрат слагаемое многочлен выражение sbj2:  обособление куприн слово раскольников мастер роман словосочетание маргарита подчинительный соня оборот вера браслет старик сантьяго sbj3:  который быть год свой время государство человек мир становиться жизнь северный первый война африка ребенок sbj4:  x a b уравнение дробь квадратный y степень функция число f решение корень c пример sbj5:  быть год пушкин функция свой его русский который поэт империя культура весь a f трение sbj6:  сила быть тело энергия поле при магнитный точка географический наречие если частица например заряд величина sbj7:  который что это как человек для этот такой быть являться мочь себя она его свой sbj8:  который быть что это свой как этот человек для x они такой государство a весь sbj9:  который быть что этот это как человек свой для такой весь они его жизнь являться "
     ]
    }
   ],
   "source": [
    "for topic_name in model_artm.topic_names:\n",
    "    print(topic_name + ': ', end=\" \")\n",
    "    tokens = model_artm.score_tracker[\"top_words\"].last_tokens\n",
    "    for word in tokens[topic_name]:    \n",
    "        print(word, end=\" \")\n",
    "    print"
   ]
  },
  {
   "cell_type": "markdown",
   "metadata": {},
   "source": [
    "Давайте посмотрим также на разреженность матриц:"
   ]
  },
  {
   "cell_type": "code",
   "execution_count": 12,
   "metadata": {},
   "outputs": [
    {
     "name": "stdout",
     "output_type": "stream",
     "text": [
      "0.7333188652992249\n",
      "0.16533613204956055\n"
     ]
    }
   ],
   "source": [
    "print(model_artm.score_tracker[\"SparsityPhiScore\"].last_value)\n",
    "print(model_artm.score_tracker[\"SparsityThetaScore\"].last_value)"
   ]
  },
  {
   "cell_type": "markdown",
   "metadata": {},
   "source": [
    "В темах много общеупотребительных слов (так называемой, фоновой лексики). Чтобы этого избежать, будем использовать разреживающий регуляризатор для матрицы фи. Он будет подавлять слова, которые имеют большую частоту во всей коллекции."
   ]
  },
  {
   "cell_type": "code",
   "execution_count": 13,
   "metadata": {},
   "outputs": [],
   "source": [
    "model_artm.regularizers.add(artm.SmoothSparsePhiRegularizer(name='SparsePhi', tau=-100, dictionary=dictionary))\n",
    "#если вы хотите применять регуляризатор только к некоторым модальностям, указывайте это в параметре class_ids: class_ids=[\"text\"]"
   ]
  },
  {
   "cell_type": "code",
   "execution_count": 14,
   "metadata": {},
   "outputs": [],
   "source": [
    "model_artm.fit_offline(batch_vectorizer=batch_vectorizer, num_collection_passes=15)"
   ]
  },
  {
   "cell_type": "code",
   "execution_count": 15,
   "metadata": {},
   "outputs": [
    {
     "name": "stdout",
     "output_type": "stream",
     "text": [
      "0.8168085217475891\n",
      "0.3025210201740265\n"
     ]
    }
   ],
   "source": [
    "print(model_artm.score_tracker[\"SparsityPhiScore\"].last_value)\n",
    "print(model_artm.score_tracker[\"SparsityThetaScore\"].last_value)"
   ]
  },
  {
   "cell_type": "markdown",
   "metadata": {},
   "source": [
    "Попробуем менять коэффициент регуляризации:"
   ]
  },
  {
   "cell_type": "code",
   "execution_count": 16,
   "metadata": {},
   "outputs": [],
   "source": [
    "model_artm.regularizers['SparsePhi'].tau = -5*1e4"
   ]
  },
  {
   "cell_type": "code",
   "execution_count": 17,
   "metadata": {},
   "outputs": [],
   "source": [
    "model_artm.fit_offline(batch_vectorizer=batch_vectorizer, num_collection_passes=15)"
   ]
  },
  {
   "cell_type": "code",
   "execution_count": 18,
   "metadata": {},
   "outputs": [
    {
     "name": "stdout",
     "output_type": "stream",
     "text": [
      "0.9105099439620972\n",
      "0.4848739504814148\n"
     ]
    }
   ],
   "source": [
    "# еще раз посмотрим на разреженность\n",
    "print(model_artm.score_tracker[\"SparsityPhiScore\"].last_value)\n",
    "print(model_artm.score_tracker[\"SparsityThetaScore\"].last_value)"
   ]
  },
  {
   "cell_type": "markdown",
   "metadata": {},
   "source": [
    "Обратите внимание, что разреживать модель рекомендуется только после того, как она сошлась без регуляризации."
   ]
  },
  {
   "cell_type": "markdown",
   "metadata": {},
   "source": [
    "Сохранение и загрузка модели:"
   ]
  },
  {
   "cell_type": "code",
   "execution_count": 19,
   "metadata": {},
   "outputs": [],
   "source": [
    "model_artm.save(\"../data/my_model\")"
   ]
  },
  {
   "cell_type": "code",
   "execution_count": 20,
   "metadata": {},
   "outputs": [],
   "source": [
    "model_artm.load(\"../data/my_model\")"
   ]
  },
  {
   "cell_type": "markdown",
   "metadata": {},
   "source": [
    "Можно попросить матрицы в чистом виде:"
   ]
  },
  {
   "cell_type": "code",
   "execution_count": 21,
   "metadata": {},
   "outputs": [],
   "source": [
    "phi = model_artm.get_phi()"
   ]
  },
  {
   "cell_type": "code",
   "execution_count": 22,
   "metadata": {},
   "outputs": [
    {
     "data": {
      "text/html": [
       "<div>\n",
       "<style scoped>\n",
       "    .dataframe tbody tr th:only-of-type {\n",
       "        vertical-align: middle;\n",
       "    }\n",
       "\n",
       "    .dataframe tbody tr th {\n",
       "        vertical-align: top;\n",
       "    }\n",
       "\n",
       "    .dataframe thead th {\n",
       "        text-align: right;\n",
       "    }\n",
       "</style>\n",
       "<table border=\"1\" class=\"dataframe\">\n",
       "  <thead>\n",
       "    <tr style=\"text-align: right;\">\n",
       "      <th></th>\n",
       "      <th>sbj0</th>\n",
       "      <th>sbj1</th>\n",
       "      <th>sbj2</th>\n",
       "      <th>sbj3</th>\n",
       "      <th>sbj4</th>\n",
       "      <th>sbj5</th>\n",
       "      <th>sbj6</th>\n",
       "      <th>sbj7</th>\n",
       "      <th>sbj8</th>\n",
       "      <th>sbj9</th>\n",
       "    </tr>\n",
       "  </thead>\n",
       "  <tbody>\n",
       "    <tr>\n",
       "      <th>пластинка</th>\n",
       "      <td>0.00000</td>\n",
       "      <td>0.0</td>\n",
       "      <td>0.0</td>\n",
       "      <td>0.0</td>\n",
       "      <td>0.0</td>\n",
       "      <td>0.0</td>\n",
       "      <td>0.0</td>\n",
       "      <td>0.0</td>\n",
       "      <td>0.0</td>\n",
       "      <td>0.000011</td>\n",
       "    </tr>\n",
       "    <tr>\n",
       "      <th>фотопластинка</th>\n",
       "      <td>0.00000</td>\n",
       "      <td>0.0</td>\n",
       "      <td>0.0</td>\n",
       "      <td>0.0</td>\n",
       "      <td>0.0</td>\n",
       "      <td>0.0</td>\n",
       "      <td>0.0</td>\n",
       "      <td>0.0</td>\n",
       "      <td>0.0</td>\n",
       "      <td>0.000023</td>\n",
       "    </tr>\n",
       "    <tr>\n",
       "      <th>Добросклонова</th>\n",
       "      <td>0.00000</td>\n",
       "      <td>0.0</td>\n",
       "      <td>0.0</td>\n",
       "      <td>0.0</td>\n",
       "      <td>0.0</td>\n",
       "      <td>0.0</td>\n",
       "      <td>0.0</td>\n",
       "      <td>0.0</td>\n",
       "      <td>0.0</td>\n",
       "      <td>0.000011</td>\n",
       "    </tr>\n",
       "    <tr>\n",
       "      <th>лирикиОсобенно</th>\n",
       "      <td>0.00000</td>\n",
       "      <td>0.0</td>\n",
       "      <td>0.0</td>\n",
       "      <td>0.0</td>\n",
       "      <td>0.0</td>\n",
       "      <td>0.0</td>\n",
       "      <td>0.0</td>\n",
       "      <td>0.0</td>\n",
       "      <td>0.0</td>\n",
       "      <td>0.000011</td>\n",
       "    </tr>\n",
       "    <tr>\n",
       "      <th>вправе</th>\n",
       "      <td>0.00000</td>\n",
       "      <td>0.0</td>\n",
       "      <td>0.0</td>\n",
       "      <td>0.0</td>\n",
       "      <td>0.0</td>\n",
       "      <td>0.0</td>\n",
       "      <td>0.0</td>\n",
       "      <td>0.0</td>\n",
       "      <td>0.0</td>\n",
       "      <td>0.000011</td>\n",
       "    </tr>\n",
       "    <tr>\n",
       "      <th>...</th>\n",
       "      <td>...</td>\n",
       "      <td>...</td>\n",
       "      <td>...</td>\n",
       "      <td>...</td>\n",
       "      <td>...</td>\n",
       "      <td>...</td>\n",
       "      <td>...</td>\n",
       "      <td>...</td>\n",
       "      <td>...</td>\n",
       "      <td>...</td>\n",
       "    </tr>\n",
       "    <tr>\n",
       "      <th>кинетический</th>\n",
       "      <td>0.00000</td>\n",
       "      <td>0.0</td>\n",
       "      <td>0.0</td>\n",
       "      <td>0.0</td>\n",
       "      <td>0.0</td>\n",
       "      <td>0.0</td>\n",
       "      <td>0.0</td>\n",
       "      <td>0.0</td>\n",
       "      <td>0.0</td>\n",
       "      <td>0.000275</td>\n",
       "    </tr>\n",
       "    <tr>\n",
       "      <th>спроецировать</th>\n",
       "      <td>0.00007</td>\n",
       "      <td>0.0</td>\n",
       "      <td>0.0</td>\n",
       "      <td>0.0</td>\n",
       "      <td>0.0</td>\n",
       "      <td>0.0</td>\n",
       "      <td>0.0</td>\n",
       "      <td>0.0</td>\n",
       "      <td>0.0</td>\n",
       "      <td>0.000000</td>\n",
       "    </tr>\n",
       "    <tr>\n",
       "      <th>соотноситься</th>\n",
       "      <td>0.00000</td>\n",
       "      <td>0.0</td>\n",
       "      <td>0.0</td>\n",
       "      <td>0.0</td>\n",
       "      <td>0.0</td>\n",
       "      <td>0.0</td>\n",
       "      <td>0.0</td>\n",
       "      <td>0.0</td>\n",
       "      <td>0.0</td>\n",
       "      <td>0.000011</td>\n",
       "    </tr>\n",
       "    <tr>\n",
       "      <th>эпицентр</th>\n",
       "      <td>0.00000</td>\n",
       "      <td>0.0</td>\n",
       "      <td>0.0</td>\n",
       "      <td>0.0</td>\n",
       "      <td>0.0</td>\n",
       "      <td>0.0</td>\n",
       "      <td>0.0</td>\n",
       "      <td>0.0</td>\n",
       "      <td>0.0</td>\n",
       "      <td>0.000011</td>\n",
       "    </tr>\n",
       "    <tr>\n",
       "      <th>гений</th>\n",
       "      <td>0.00000</td>\n",
       "      <td>0.0</td>\n",
       "      <td>0.0</td>\n",
       "      <td>0.0</td>\n",
       "      <td>0.0</td>\n",
       "      <td>0.0</td>\n",
       "      <td>0.0</td>\n",
       "      <td>0.0</td>\n",
       "      <td>0.0</td>\n",
       "      <td>0.000126</td>\n",
       "    </tr>\n",
       "  </tbody>\n",
       "</table>\n",
       "<p>16099 rows × 10 columns</p>\n",
       "</div>"
      ],
      "text/plain": [
       "                   sbj0  sbj1  sbj2  sbj3  sbj4  sbj5  sbj6  sbj7  sbj8  \\\n",
       "пластинка       0.00000   0.0   0.0   0.0   0.0   0.0   0.0   0.0   0.0   \n",
       "фотопластинка   0.00000   0.0   0.0   0.0   0.0   0.0   0.0   0.0   0.0   \n",
       "Добросклонова   0.00000   0.0   0.0   0.0   0.0   0.0   0.0   0.0   0.0   \n",
       "лирикиОсобенно  0.00000   0.0   0.0   0.0   0.0   0.0   0.0   0.0   0.0   \n",
       "вправе          0.00000   0.0   0.0   0.0   0.0   0.0   0.0   0.0   0.0   \n",
       "...                 ...   ...   ...   ...   ...   ...   ...   ...   ...   \n",
       "кинетический    0.00000   0.0   0.0   0.0   0.0   0.0   0.0   0.0   0.0   \n",
       "спроецировать   0.00007   0.0   0.0   0.0   0.0   0.0   0.0   0.0   0.0   \n",
       "соотноситься    0.00000   0.0   0.0   0.0   0.0   0.0   0.0   0.0   0.0   \n",
       "эпицентр        0.00000   0.0   0.0   0.0   0.0   0.0   0.0   0.0   0.0   \n",
       "гений           0.00000   0.0   0.0   0.0   0.0   0.0   0.0   0.0   0.0   \n",
       "\n",
       "                    sbj9  \n",
       "пластинка       0.000011  \n",
       "фотопластинка   0.000023  \n",
       "Добросклонова   0.000011  \n",
       "лирикиОсобенно  0.000011  \n",
       "вправе          0.000011  \n",
       "...                  ...  \n",
       "кинетический    0.000275  \n",
       "спроецировать   0.000000  \n",
       "соотноситься    0.000011  \n",
       "эпицентр        0.000011  \n",
       "гений           0.000126  \n",
       "\n",
       "[16099 rows x 10 columns]"
      ]
     },
     "execution_count": 22,
     "metadata": {},
     "output_type": "execute_result"
    }
   ],
   "source": [
    "phi"
   ]
  },
  {
   "cell_type": "markdown",
   "metadata": {},
   "source": [
    "Матрица вероятностей тем в документах."
   ]
  },
  {
   "cell_type": "code",
   "execution_count": 23,
   "metadata": {},
   "outputs": [
    {
     "data": {
      "text/html": [
       "<div>\n",
       "<style scoped>\n",
       "    .dataframe tbody tr th:only-of-type {\n",
       "        vertical-align: middle;\n",
       "    }\n",
       "\n",
       "    .dataframe tbody tr th {\n",
       "        vertical-align: top;\n",
       "    }\n",
       "\n",
       "    .dataframe thead th {\n",
       "        text-align: right;\n",
       "    }\n",
       "</style>\n",
       "<table border=\"1\" class=\"dataframe\">\n",
       "  <thead>\n",
       "    <tr style=\"text-align: right;\">\n",
       "      <th></th>\n",
       "      <th>100</th>\n",
       "      <th>101</th>\n",
       "      <th>102</th>\n",
       "      <th>103</th>\n",
       "      <th>104</th>\n",
       "      <th>105</th>\n",
       "      <th>106</th>\n",
       "      <th>107</th>\n",
       "      <th>108</th>\n",
       "      <th>109</th>\n",
       "      <th>...</th>\n",
       "      <th>390</th>\n",
       "      <th>391</th>\n",
       "      <th>392</th>\n",
       "      <th>393</th>\n",
       "      <th>394</th>\n",
       "      <th>395</th>\n",
       "      <th>396</th>\n",
       "      <th>397</th>\n",
       "      <th>398</th>\n",
       "      <th>399</th>\n",
       "    </tr>\n",
       "  </thead>\n",
       "  <tbody>\n",
       "    <tr>\n",
       "      <th>sbj0</th>\n",
       "      <td>0.045603</td>\n",
       "      <td>0.070671</td>\n",
       "      <td>0.034384</td>\n",
       "      <td>0.085837</td>\n",
       "      <td>0.165493</td>\n",
       "      <td>0.047847</td>\n",
       "      <td>0.151235</td>\n",
       "      <td>0.096491</td>\n",
       "      <td>0.053872</td>\n",
       "      <td>0.020243</td>\n",
       "      <td>...</td>\n",
       "      <td>0.301038</td>\n",
       "      <td>0.217631</td>\n",
       "      <td>0.335009</td>\n",
       "      <td>0.438202</td>\n",
       "      <td>0.448997</td>\n",
       "      <td>0.545729</td>\n",
       "      <td>0.381868</td>\n",
       "      <td>0.198473</td>\n",
       "      <td>0.234286</td>\n",
       "      <td>0.477607</td>\n",
       "    </tr>\n",
       "    <tr>\n",
       "      <th>sbj1</th>\n",
       "      <td>0.000000</td>\n",
       "      <td>0.000000</td>\n",
       "      <td>0.000000</td>\n",
       "      <td>0.000000</td>\n",
       "      <td>0.000000</td>\n",
       "      <td>0.000000</td>\n",
       "      <td>0.000000</td>\n",
       "      <td>0.000000</td>\n",
       "      <td>0.000000</td>\n",
       "      <td>0.000000</td>\n",
       "      <td>...</td>\n",
       "      <td>0.000000</td>\n",
       "      <td>0.000000</td>\n",
       "      <td>0.000000</td>\n",
       "      <td>0.000000</td>\n",
       "      <td>0.000000</td>\n",
       "      <td>0.000000</td>\n",
       "      <td>0.000000</td>\n",
       "      <td>0.000000</td>\n",
       "      <td>0.000000</td>\n",
       "      <td>0.000000</td>\n",
       "    </tr>\n",
       "    <tr>\n",
       "      <th>sbj2</th>\n",
       "      <td>0.000000</td>\n",
       "      <td>0.000000</td>\n",
       "      <td>0.000000</td>\n",
       "      <td>0.000000</td>\n",
       "      <td>0.000000</td>\n",
       "      <td>0.000000</td>\n",
       "      <td>0.000000</td>\n",
       "      <td>0.000000</td>\n",
       "      <td>0.000000</td>\n",
       "      <td>0.000000</td>\n",
       "      <td>...</td>\n",
       "      <td>0.000000</td>\n",
       "      <td>0.000000</td>\n",
       "      <td>0.000000</td>\n",
       "      <td>0.000000</td>\n",
       "      <td>0.000000</td>\n",
       "      <td>0.000000</td>\n",
       "      <td>0.000000</td>\n",
       "      <td>0.000000</td>\n",
       "      <td>0.000000</td>\n",
       "      <td>0.000000</td>\n",
       "    </tr>\n",
       "    <tr>\n",
       "      <th>sbj3</th>\n",
       "      <td>0.058562</td>\n",
       "      <td>0.307421</td>\n",
       "      <td>0.014327</td>\n",
       "      <td>0.347639</td>\n",
       "      <td>0.080986</td>\n",
       "      <td>0.014354</td>\n",
       "      <td>0.086420</td>\n",
       "      <td>0.004386</td>\n",
       "      <td>0.003367</td>\n",
       "      <td>0.097166</td>\n",
       "      <td>...</td>\n",
       "      <td>0.006920</td>\n",
       "      <td>0.024793</td>\n",
       "      <td>0.037288</td>\n",
       "      <td>0.011236</td>\n",
       "      <td>0.024465</td>\n",
       "      <td>0.013863</td>\n",
       "      <td>0.030220</td>\n",
       "      <td>0.041985</td>\n",
       "      <td>0.000000</td>\n",
       "      <td>0.099707</td>\n",
       "    </tr>\n",
       "    <tr>\n",
       "      <th>sbj4</th>\n",
       "      <td>0.000000</td>\n",
       "      <td>0.000000</td>\n",
       "      <td>0.000000</td>\n",
       "      <td>0.000000</td>\n",
       "      <td>0.000000</td>\n",
       "      <td>0.000000</td>\n",
       "      <td>0.000000</td>\n",
       "      <td>0.000000</td>\n",
       "      <td>0.000000</td>\n",
       "      <td>0.000000</td>\n",
       "      <td>...</td>\n",
       "      <td>0.000000</td>\n",
       "      <td>0.000000</td>\n",
       "      <td>0.000000</td>\n",
       "      <td>0.000000</td>\n",
       "      <td>0.000000</td>\n",
       "      <td>0.000000</td>\n",
       "      <td>0.000000</td>\n",
       "      <td>0.000000</td>\n",
       "      <td>0.000000</td>\n",
       "      <td>0.000000</td>\n",
       "    </tr>\n",
       "    <tr>\n",
       "      <th>sbj5</th>\n",
       "      <td>0.010053</td>\n",
       "      <td>0.113074</td>\n",
       "      <td>0.005731</td>\n",
       "      <td>0.012876</td>\n",
       "      <td>0.031690</td>\n",
       "      <td>0.054372</td>\n",
       "      <td>0.033951</td>\n",
       "      <td>0.074561</td>\n",
       "      <td>0.037037</td>\n",
       "      <td>0.008097</td>\n",
       "      <td>...</td>\n",
       "      <td>0.027682</td>\n",
       "      <td>0.008264</td>\n",
       "      <td>0.017534</td>\n",
       "      <td>0.028090</td>\n",
       "      <td>0.015291</td>\n",
       "      <td>0.072761</td>\n",
       "      <td>0.005495</td>\n",
       "      <td>0.057252</td>\n",
       "      <td>0.051429</td>\n",
       "      <td>0.049853</td>\n",
       "    </tr>\n",
       "    <tr>\n",
       "      <th>sbj6</th>\n",
       "      <td>0.000000</td>\n",
       "      <td>0.000000</td>\n",
       "      <td>0.000000</td>\n",
       "      <td>0.000000</td>\n",
       "      <td>0.000000</td>\n",
       "      <td>0.000000</td>\n",
       "      <td>0.000000</td>\n",
       "      <td>0.000000</td>\n",
       "      <td>0.000000</td>\n",
       "      <td>0.000000</td>\n",
       "      <td>...</td>\n",
       "      <td>0.000000</td>\n",
       "      <td>0.000000</td>\n",
       "      <td>0.000000</td>\n",
       "      <td>0.000000</td>\n",
       "      <td>0.000000</td>\n",
       "      <td>0.000000</td>\n",
       "      <td>0.000000</td>\n",
       "      <td>0.000000</td>\n",
       "      <td>0.000000</td>\n",
       "      <td>0.000000</td>\n",
       "    </tr>\n",
       "    <tr>\n",
       "      <th>sbj7</th>\n",
       "      <td>0.096993</td>\n",
       "      <td>0.003534</td>\n",
       "      <td>0.299236</td>\n",
       "      <td>0.017167</td>\n",
       "      <td>0.024648</td>\n",
       "      <td>0.243195</td>\n",
       "      <td>0.030838</td>\n",
       "      <td>0.096459</td>\n",
       "      <td>0.006734</td>\n",
       "      <td>0.068826</td>\n",
       "      <td>...</td>\n",
       "      <td>0.003460</td>\n",
       "      <td>0.011019</td>\n",
       "      <td>0.027119</td>\n",
       "      <td>0.028090</td>\n",
       "      <td>0.015291</td>\n",
       "      <td>0.011765</td>\n",
       "      <td>0.000000</td>\n",
       "      <td>0.015267</td>\n",
       "      <td>0.011429</td>\n",
       "      <td>0.011730</td>\n",
       "    </tr>\n",
       "    <tr>\n",
       "      <th>sbj8</th>\n",
       "      <td>0.042861</td>\n",
       "      <td>0.127209</td>\n",
       "      <td>0.054807</td>\n",
       "      <td>0.103004</td>\n",
       "      <td>0.116197</td>\n",
       "      <td>0.062765</td>\n",
       "      <td>0.071014</td>\n",
       "      <td>0.109681</td>\n",
       "      <td>0.191919</td>\n",
       "      <td>0.064777</td>\n",
       "      <td>...</td>\n",
       "      <td>0.076125</td>\n",
       "      <td>0.088154</td>\n",
       "      <td>0.115254</td>\n",
       "      <td>0.050562</td>\n",
       "      <td>0.055591</td>\n",
       "      <td>0.032353</td>\n",
       "      <td>0.101648</td>\n",
       "      <td>0.091603</td>\n",
       "      <td>0.222857</td>\n",
       "      <td>0.070781</td>\n",
       "    </tr>\n",
       "    <tr>\n",
       "      <th>sbj9</th>\n",
       "      <td>0.745928</td>\n",
       "      <td>0.378092</td>\n",
       "      <td>0.591516</td>\n",
       "      <td>0.433477</td>\n",
       "      <td>0.580986</td>\n",
       "      <td>0.577467</td>\n",
       "      <td>0.626543</td>\n",
       "      <td>0.618421</td>\n",
       "      <td>0.707070</td>\n",
       "      <td>0.740890</td>\n",
       "      <td>...</td>\n",
       "      <td>0.584775</td>\n",
       "      <td>0.650138</td>\n",
       "      <td>0.467796</td>\n",
       "      <td>0.443820</td>\n",
       "      <td>0.440367</td>\n",
       "      <td>0.323529</td>\n",
       "      <td>0.480769</td>\n",
       "      <td>0.595420</td>\n",
       "      <td>0.480000</td>\n",
       "      <td>0.290322</td>\n",
       "    </tr>\n",
       "  </tbody>\n",
       "</table>\n",
       "<p>10 rows × 476 columns</p>\n",
       "</div>"
      ],
      "text/plain": [
       "           100       101       102       103       104       105       106  \\\n",
       "sbj0  0.045603  0.070671  0.034384  0.085837  0.165493  0.047847  0.151235   \n",
       "sbj1  0.000000  0.000000  0.000000  0.000000  0.000000  0.000000  0.000000   \n",
       "sbj2  0.000000  0.000000  0.000000  0.000000  0.000000  0.000000  0.000000   \n",
       "sbj3  0.058562  0.307421  0.014327  0.347639  0.080986  0.014354  0.086420   \n",
       "sbj4  0.000000  0.000000  0.000000  0.000000  0.000000  0.000000  0.000000   \n",
       "sbj5  0.010053  0.113074  0.005731  0.012876  0.031690  0.054372  0.033951   \n",
       "sbj6  0.000000  0.000000  0.000000  0.000000  0.000000  0.000000  0.000000   \n",
       "sbj7  0.096993  0.003534  0.299236  0.017167  0.024648  0.243195  0.030838   \n",
       "sbj8  0.042861  0.127209  0.054807  0.103004  0.116197  0.062765  0.071014   \n",
       "sbj9  0.745928  0.378092  0.591516  0.433477  0.580986  0.577467  0.626543   \n",
       "\n",
       "           107       108       109  ...       390       391       392  \\\n",
       "sbj0  0.096491  0.053872  0.020243  ...  0.301038  0.217631  0.335009   \n",
       "sbj1  0.000000  0.000000  0.000000  ...  0.000000  0.000000  0.000000   \n",
       "sbj2  0.000000  0.000000  0.000000  ...  0.000000  0.000000  0.000000   \n",
       "sbj3  0.004386  0.003367  0.097166  ...  0.006920  0.024793  0.037288   \n",
       "sbj4  0.000000  0.000000  0.000000  ...  0.000000  0.000000  0.000000   \n",
       "sbj5  0.074561  0.037037  0.008097  ...  0.027682  0.008264  0.017534   \n",
       "sbj6  0.000000  0.000000  0.000000  ...  0.000000  0.000000  0.000000   \n",
       "sbj7  0.096459  0.006734  0.068826  ...  0.003460  0.011019  0.027119   \n",
       "sbj8  0.109681  0.191919  0.064777  ...  0.076125  0.088154  0.115254   \n",
       "sbj9  0.618421  0.707070  0.740890  ...  0.584775  0.650138  0.467796   \n",
       "\n",
       "           393       394       395       396       397       398       399  \n",
       "sbj0  0.438202  0.448997  0.545729  0.381868  0.198473  0.234286  0.477607  \n",
       "sbj1  0.000000  0.000000  0.000000  0.000000  0.000000  0.000000  0.000000  \n",
       "sbj2  0.000000  0.000000  0.000000  0.000000  0.000000  0.000000  0.000000  \n",
       "sbj3  0.011236  0.024465  0.013863  0.030220  0.041985  0.000000  0.099707  \n",
       "sbj4  0.000000  0.000000  0.000000  0.000000  0.000000  0.000000  0.000000  \n",
       "sbj5  0.028090  0.015291  0.072761  0.005495  0.057252  0.051429  0.049853  \n",
       "sbj6  0.000000  0.000000  0.000000  0.000000  0.000000  0.000000  0.000000  \n",
       "sbj7  0.028090  0.015291  0.011765  0.000000  0.015267  0.011429  0.011730  \n",
       "sbj8  0.050562  0.055591  0.032353  0.101648  0.091603  0.222857  0.070781  \n",
       "sbj9  0.443820  0.440367  0.323529  0.480769  0.595420  0.480000  0.290322  \n",
       "\n",
       "[10 rows x 476 columns]"
      ]
     },
     "execution_count": 23,
     "metadata": {},
     "output_type": "execute_result"
    }
   ],
   "source": [
    "theta = model_artm.get_theta()\n",
    "theta"
   ]
  },
  {
   "cell_type": "markdown",
   "metadata": {},
   "source": [
    "Если бы у нас были новые батчи, по которым мы не строим модель, а хотим только получить матрицу theta, можно пользоваться методом transform."
   ]
  },
  {
   "cell_type": "code",
   "execution_count": 24,
   "metadata": {},
   "outputs": [],
   "source": [
    "theta_test = model_artm.transform(batch_vectorizer)"
   ]
  }
 ],
 "metadata": {
  "kernelspec": {
   "display_name": "Python 3",
   "language": "python",
   "name": "python3"
  },
  "language_info": {
   "codemirror_mode": {
    "name": "ipython",
    "version": 3
   },
   "file_extension": ".py",
   "mimetype": "text/x-python",
   "name": "python",
   "nbconvert_exporter": "python",
   "pygments_lexer": "ipython3",
   "version": "3.7.6"
  }
 },
 "nbformat": 4,
 "nbformat_minor": 1
}
